{
 "cells": [
  {
   "cell_type": "markdown",
   "id": "ddc896ed",
   "metadata": {},
   "source": [
    "1. Define a function named is_two. It should accept one input and return True if the passed input is either the number or the string 2, False otherwise"
   ]
  },
  {
   "cell_type": "code",
   "execution_count": 93,
   "id": "0257c5d0",
   "metadata": {},
   "outputs": [
    {
     "name": "stdout",
     "output_type": "stream",
     "text": [
      "False\n",
      "True\n",
      "True\n"
     ]
    }
   ],
   "source": [
    "# is_two  defines a single paramter, my_input is either a string or a number, and will return  boolean value\n",
    "def is_two(my_input):\n",
    "    # convert the passed argument to string and check if it is equal to string 2. If True then, return True else False\n",
    "    if str(my_input) == '2': \n",
    "        return True \n",
    "    return False\n",
    "    \n",
    "    \n",
    "print(is_two(3))\n",
    "print(is_two(2))\n",
    "print(is_two('2'))"
   ]
  },
  {
   "cell_type": "markdown",
   "id": "be97aed4",
   "metadata": {},
   "source": [
    "2. Define a function named is_vowel. It should return True if the passed string is a vowel, False otherwise."
   ]
  },
  {
   "cell_type": "code",
   "execution_count": 256,
   "id": "b0373865",
   "metadata": {},
   "outputs": [
    {
     "name": "stdout",
     "output_type": "stream",
     "text": [
      "True\n",
      "True\n",
      "False\n",
      "False\n"
     ]
    }
   ],
   "source": [
    "# is_vowel define a single parameter, alphabet that is a string, and will return a boolean value\n",
    "def is_vowel(alphabet):\n",
    "    \"\"\"convert the passed argument to lowercase in order to check both uppercase and lowecase arguments.\n",
    "    If passed arguments are in string of 'aeiou', return True. If not return False.\"\"\"\n",
    "    if alphabet.lower() in ('aeiou'):\n",
    "        return True\n",
    "    return False\n",
    "\n",
    "    \n",
    "print(is_vowel('a'))\n",
    "print(is_vowel('I'))\n",
    "print(is_vowel('z'))\n",
    "print(is_vowel('K'))\n",
    "\n",
    "    \n",
    "# def contain_vowel(user_input):\n",
    "    \n",
    "#     for char in user_input:\n",
    "#         if char.lower() in ('aeiou'):\n",
    "#             return True\n",
    "#     return False\n",
    "          \n",
    "\n",
    "#     if any(char.lower() in ('aeiou') for char in user_input):\n",
    "#         return True\n",
    "#     return False\n",
    "\n",
    "\n",
    "# print(contain_vowel('bbva'))\n",
    "# print(contain_vowel('bbd'))\n"
   ]
  },
  {
   "cell_type": "markdown",
   "id": "31da7a79",
   "metadata": {},
   "source": [
    "3. Define a function named is_consonant. It should return True if the passed string is a consonant, False otherwise. Use your is_vowel function to accomplish this."
   ]
  },
  {
   "cell_type": "code",
   "execution_count": 259,
   "id": "a4e7ae18",
   "metadata": {},
   "outputs": [
    {
     "name": "stdout",
     "output_type": "stream",
     "text": [
      "False\n",
      "False\n",
      "True\n",
      "True\n"
     ]
    }
   ],
   "source": [
    "# is_constant define a single parameter, alphabet that is a string, and will return a boolean value\n",
    "\n",
    "def is_constant(alphabet):\n",
    "     \"\"\"convert the passed argument to lowercase in order to check both uppercase and lowecase arguments.\n",
    "    If passed arguments are in not in string of 'aeiou', return True. If not return False.\"\"\"\n",
    "    if alphabet.lower() not in ('aeiou'):\n",
    "        return True\n",
    "    return False\n",
    "\n",
    "\n",
    "print(is_constant('a'))\n",
    "print(is_constant('I'))\n",
    "print(is_constant('z'))\n",
    "print(is_constant('K'))"
   ]
  },
  {
   "cell_type": "markdown",
   "id": "f573677a",
   "metadata": {},
   "source": [
    "4. Define a function that accepts a string that is a word. The function should capitalize the first letter of the word if the word starts with a consonant."
   ]
  },
  {
   "cell_type": "code",
   "execution_count": 265,
   "id": "aa012e9e",
   "metadata": {},
   "outputs": [
    {
     "name": "stdout",
     "output_type": "stream",
     "text": [
      "Bus\n",
      "None\n"
     ]
    }
   ],
   "source": [
    "# caitalize_consant defines a single parameter, word that is string, and will return a string value\n",
    "def capitalize_constant(word):\n",
    "    #check if first leter of passed argument is a vowel. If yes, capitalize it.\n",
    "    if word[0] not in ('aeiou'):\n",
    "        return word.capitalize()\n",
    "    \n",
    "      \n",
    "print(capitalize_constant('bus'))\n",
    "print(capitalize_constant('egg'))\n",
    "\n",
    "\n",
    "        "
   ]
  },
  {
   "cell_type": "markdown",
   "id": "ce3ea6d1",
   "metadata": {},
   "source": [
    "5. Define a function named calculate_tip. It should accept a tip percentage (a number between 0 and 1) and the bill total, and return the amount to tip."
   ]
  },
  {
   "cell_type": "code",
   "execution_count": 266,
   "id": "5c7e8805",
   "metadata": {},
   "outputs": [
    {
     "name": "stdout",
     "output_type": "stream",
     "text": [
      "0.5\n"
     ]
    }
   ],
   "source": [
    "# cacluate_tip defines two parameters: tip_percent and bill and will return the amount to tip\n",
    "def calculate_tip(tip_percent,bill):\n",
    "    # Divide tip_percent by 100 to convert percentage into decimal and multiply by bill to get a result.\n",
    "    return (tip_percent/100)* bill \n",
    "    \n",
    "    \n",
    "print(calculate_tip(.5,100))"
   ]
  },
  {
   "cell_type": "markdown",
   "id": "ee0d8684",
   "metadata": {},
   "source": [
    "6. Define a function named apply_discount. It should accept a original price, and a discount percentage, and return the price after the discount is applied."
   ]
  },
  {
   "cell_type": "code",
   "execution_count": 267,
   "id": "71bd60b3",
   "metadata": {},
   "outputs": [
    {
     "name": "stdout",
     "output_type": "stream",
     "text": [
      "90.0\n"
     ]
    }
   ],
   "source": [
    "# apply_discount defines two parameters: original_price, discount_percent and will return the price after the discount\n",
    "def apply_discount(original_price, discount_percent):\n",
    "    \"\"\"Divide discount percentage by 100 to convert to decimal, multiply discount decimal by original price to get\n",
    "    discount amount, then subtract discount amount from original price to the price after discount\"\"\"\n",
    "    \n",
    "    price = original_price - (discount_percent/100)* original_price\n",
    "    return price\n",
    "\n",
    "\n",
    "print(apply_discount(100, 10))"
   ]
  },
  {
   "cell_type": "markdown",
   "id": "8373deeb",
   "metadata": {},
   "source": [
    "7. Define a function named handle_commas. It should accept a string that is a number that contains commas in it as input, and return a number as output."
   ]
  },
  {
   "cell_type": "code",
   "execution_count": 269,
   "id": "1c486bcd",
   "metadata": {},
   "outputs": [
    {
     "name": "stdout",
     "output_type": "stream",
     "text": [
      "1235867\n",
      "None\n"
     ]
    }
   ],
   "source": [
    "# handle_commas defines a single parameter, number that is a string, and will return a string without a comma\n",
    "def handle_commas(number):\n",
    "    # check if passed argument has a comma, if True, then replace the comma with empty string.\n",
    "    if ',' in number:\n",
    "        return number.replace(',', '')\n",
    "\n",
    "\n",
    "print(handle_commas('123,5,867'))\n",
    "print(handle_commas('123_5_867'))"
   ]
  },
  {
   "cell_type": "markdown",
   "id": "bd13859b",
   "metadata": {},
   "source": [
    "8. Define a function named get_letter_grade. It should accept a number and return the letter grade associated with that number (A-F)."
   ]
  },
  {
   "cell_type": "code",
   "execution_count": 49,
   "id": "6ce6b54f",
   "metadata": {},
   "outputs": [
    {
     "name": "stdout",
     "output_type": "stream",
     "text": [
      "F\n"
     ]
    }
   ],
   "source": [
    "# get_letter_grade defines a single parameter, number is int, and will return a string.\n",
    "\n",
    "def get_letter_grade(number):\n",
    "    #  check if passed argument is valid that it is between 0 and 100\n",
    "    if 0 <= number <= 100: \n",
    "        # check if passed argument is greater than or equal to 88. If True, return 'A'. If False, check further down\n",
    "        if number >= 88:    \n",
    "            return 'A'\n",
    "         #  check if passed argument is greater than or equal to 80. If True, return 'B'. If False, check further down\n",
    "        elif number >= 80: \n",
    "            return 'B'\n",
    "        #  check if passed argument is greater than or equal to 67. If True, return 'C'. If False, check further down\n",
    "        elif number >= 67:  \n",
    "            return 'C'\n",
    "        #  check if passed argument is greater than or equal to 60. If True, return 'D'. If False, check further down\n",
    "        elif number >=60:  \n",
    "            return 'D'\n",
    "        #  If passed argument is False on all above conditions, then return 'F'\n",
    "        else:             \n",
    "            return 'F'\n",
    "        \n",
    "        \n",
    "print(get_letter_grade(59))"
   ]
  },
  {
   "cell_type": "markdown",
   "id": "70de8189",
   "metadata": {},
   "source": [
    "9. Define a function named remove_vowels that accepts a string and returns a string with all the vowels removed."
   ]
  },
  {
   "cell_type": "code",
   "execution_count": 97,
   "id": "c7b0b86b",
   "metadata": {},
   "outputs": [
    {
     "name": "stdout",
     "output_type": "stream",
     "text": [
      "rpln\n"
     ]
    }
   ],
   "source": [
    "# remove_vowels defines a single parameter, text that is a string, and will return a string value without vowels\n",
    "def remove_vowels(text):\n",
    "    #  maketrans method's last parameter remove all vowesl if present in a text string and store modified text\n",
    "    text_with_constant = text.maketrans('', '', 'aeiou')  \n",
    "    #  translate method returns modified text\n",
    "    return text.translate(text_with_constant)  \n",
    "\n",
    "\n",
    "\n",
    "print(remove_vowels('aeroplane'))"
   ]
  },
  {
   "cell_type": "markdown",
   "id": "d2ff17ef",
   "metadata": {},
   "source": [
    "10. Define a function named normalize_name. It should accept a string and return a valid python identifier, that is:\n",
    "- anything that is not a valid python identifier should be removed\n",
    "- leading and trailing whitespace should be removed\n",
    "- everything should be lowercase\n",
    "- spaces should be replaced with underscores\n",
    "- for example:\n",
    "    - Name will become name\n",
    "    - First Name will become first_name\n",
    "    - % Completed will become completed"
   ]
  },
  {
   "cell_type": "code",
   "execution_count": null,
   "id": "9eaf1373",
   "metadata": {},
   "outputs": [],
   "source": []
  },
  {
   "cell_type": "code",
   "execution_count": 270,
   "id": "c75e6eaf",
   "metadata": {},
   "outputs": [],
   "source": [
    "# import string module\n",
    "import string\n",
    "# normalize name defines a single parameter, name that is a string, and return a string value\n",
    "def normalize_name(name):\n",
    "    # convert passed argument to lower case using lower method and remove spaces at the begining and at the end of the string\n",
    "    name = name.lower().strip()\n",
    "    # string.punctuation give all sets of the punctuation\n",
    "    # place string. punctutation in maketrans method's last parameter to remove all sets of the punctuation\n",
    "    translated_name = name.maketrans('', '', string.punctuation)\n",
    "    # tranlsate method store modified string \n",
    "    name1 = name.translate(translated_name)\n",
    "    # replace method replace empty space with underscore\n",
    "    name1 = name1.replace(' ', '_')\n",
    "    # check if first letter of modified passed argument is digit. If True, remove it.\n",
    "    if name1[0].isdigit():\n",
    "        # get substring after first letter\n",
    "        name1 = name1[1:]\n",
    "    return name1\n"
   ]
  },
  {
   "cell_type": "code",
   "execution_count": 102,
   "id": "56ecdae5",
   "metadata": {},
   "outputs": [
    {
     "name": "stdout",
     "output_type": "stream",
     "text": [
      "name\n",
      "first_name\n",
      "completed\n",
      "first_name\n",
      "first_na_me\n"
     ]
    }
   ],
   "source": [
    "print(normalize_name('Name'))\n",
    "print(normalize_name('first Name'))\n",
    "print(normalize_name('%Completed'))\n",
    "print(normalize_name('1first Name'))\n",
    "print(normalize_name('!first Na _me)'))"
   ]
  },
  {
   "cell_type": "markdown",
   "id": "91e3c714",
   "metadata": {},
   "source": [
    "11. Write a function named cumulative_sum that accepts a list of numbers and returns a list that is the cumulative sum of the numbers in the list.\n",
    "- cumulative_sum([1, 1, 1]) returns [1, 2, 3]\n",
    "- cumulative_sum([1, 2, 3, 4]) returns [1, 3, 6, 10]"
   ]
  },
  {
   "cell_type": "code",
   "execution_count": 100,
   "id": "d747568c",
   "metadata": {},
   "outputs": [],
   "source": [
    "# cumulative_sum defines a single parameter, my_list that is a list, and returnd a list value\n",
    "def cumulative_sum(my_list):\n",
    "    # iterate over lenght of passed argumnet\n",
    "    for i in range(len(my_list)):\n",
    "        # check if i+ 1 is less than lenght of  the passed argument so that i +1 is not out of index.\n",
    "        if i+1 < len(my_list):\n",
    "            \"\"\"\"If i + 1 is within index of length of the passed argument, add first index item and consecutive index \n",
    "            item and replace consecutive index with result, then repeat the process of adding and replacing\"\"\"\n",
    "            my_list[i+1] = my_list[i] + my_list[i+1]\n",
    "    return my_list\n",
    "\n",
    "        \n",
    "        "
   ]
  },
  {
   "cell_type": "code",
   "execution_count": 24,
   "id": "71810a14",
   "metadata": {},
   "outputs": [
    {
     "name": "stdout",
     "output_type": "stream",
     "text": [
      "[1, 2, 3]\n",
      "[1, 3, 6, 10]\n"
     ]
    }
   ],
   "source": [
    "print(cumulative_sum([1, 1, 1]))\n",
    "print(cumulative_sum([1, 2, 3, 4]))"
   ]
  },
  {
   "cell_type": "markdown",
   "id": "6a3a6b12",
   "metadata": {},
   "source": [
    "Bonus\n",
    "- 1. Create a function named twelveto24. It should accept a string in the format 10:45am or 4:30pm \n",
    "    and return a string that is the representation of the time in a 24-hour format. \n",
    "    Bonus write a function that does the opposite."
   ]
  },
  {
   "cell_type": "code",
   "execution_count": 271,
   "id": "68c53444",
   "metadata": {},
   "outputs": [],
   "source": [
    "#  twelveto24 defines a single paramete, time_12 is a string and return a single string value\n",
    "def twelveto24(time_12):\n",
    "    # get first two letter of passed argument and convert those to int\n",
    "    hour = int(time_12[:2])\n",
    "    # get last two letter of passed argument and compare with 'am'\n",
    "    if time_12[-2:] == 'am':\n",
    "        #  compare if hour is lesser than 12\n",
    "        if hour < 12:\n",
    "            #  return first six letter of passed argument to get a time before miday\n",
    "            return time_12[0:5]\n",
    "        else:\n",
    "            # if hour is greater than 12, add string '00' infront of letters from 2 to 4 of passed argument to get a time after midnight\n",
    "            return '00'+time_12[2:5]\n",
    "    # if last two letters of passed argument does not match with 'am', then they match with 'pm'\n",
    "    else:\n",
    "        #  compare if hour is lesser than 12\n",
    "        if hour < 12:\n",
    "            # add 12 to hour to time after miday\n",
    "            hour = hour + 12\n",
    "            #  add hour infront of letters from 2 to 4 of passed argument to get time after miday\n",
    "            return str(hour) + time_12[2:5]\n",
    "        else:\n",
    "            #  return first five letters of passed argument to get time after between miday and one'o clock of day\n",
    "            return time_12[0:5]\n",
    "    \n",
    "       \n",
    "\n",
    "#  twentyfourto12 defines a single parameter, time_24 is a string, and returns a string value      \n",
    "def twentyfourto12(time_24):\n",
    "    # nget first two letter of passed argument and convert those to int\n",
    "    hour = int(time_24[:2])\n",
    "    #  compare if an hour is leeser than 21\n",
    "    if  hour > 21:\n",
    "        #  subtract 12 from hours greater than 21 to get a time after 10 at nighttime\n",
    "        hour = hour - 12\n",
    "        #  return time after 10 at nightime\n",
    "        return ( str(hour) + time_24[2:] + 'pm')\n",
    "    #  compare if an hour is greater than 12\n",
    "    elif hour > 12:\n",
    "       # subtract 12 from hours greater than 12 to get a time after midday\n",
    "        hour = hour -12\n",
    "        #  add '0' string infront of letters from 2 to last of passed argument to get time after miday but 10 at nightime\n",
    "        return ( '0' + str(hour) + time_24[2:] + 'pm')\n",
    "    # compare if an hour is equal to 12\n",
    "    elif hour == 12:\n",
    "            # return time between midday and one at daytime\n",
    "            return (str(hour) + time_24[2:] + 'pm')\n",
    "    # compare if an hour is leeser than 9 at daytime\n",
    "    elif hour > 9: \n",
    "        # return time after 10 at daytime\n",
    "        return (str(hour) + time_24[2:] + 'am')\n",
    "    elif hour > 1:\n",
    "        # return time between 1 and 9 at daytime\n",
    "        return ('0' + str(hour) + time_24[2:] + 'am')\n",
    "    else:\n",
    "        # return time between midnight and 1 at nightime\n",
    "        return ('12' + time_24[2:] + 'am')\n"
   ]
  },
  {
   "cell_type": "code",
   "execution_count": 272,
   "id": "716689fd",
   "metadata": {},
   "outputs": [
    {
     "name": "stdout",
     "output_type": "stream",
     "text": [
      "10:45\n",
      "05:30\n",
      "00:05\n",
      "22:45\n",
      "17:30\n",
      "12:01\n"
     ]
    }
   ],
   "source": [
    "print(twelveto24('10:45am'))\n",
    "print(twelveto24('05:30am'))\n",
    "print(twelveto24('12:05am'))\n",
    "print(twelveto24('10:45pm'))\n",
    "print(twelveto24('05:30pm'))\n",
    "print(twelveto24('12:01pm'))"
   ]
  },
  {
   "cell_type": "code",
   "execution_count": 249,
   "id": "bef9eb6a",
   "metadata": {},
   "outputs": [
    {
     "name": "stdout",
     "output_type": "stream",
     "text": [
      "10:45am\n",
      "05:30am\n",
      "12:05am\n",
      "10:45pm\n",
      "05:30pm\n",
      "12:01pm\n"
     ]
    }
   ],
   "source": [
    "print(twentyfourto12('10:45'))\n",
    "print(twentyfourto12('05:30'))\n",
    "print(twentyfourto12('00:05'))\n",
    "print(twentyfourto12('22:45'))\n",
    "print(twentyfourto12('17:30'))\n",
    "print(twentyfourto12('12:01'))"
   ]
  },
  {
   "cell_type": "code",
   "execution_count": null,
   "id": "de470de6",
   "metadata": {},
   "outputs": [],
   "source": []
  }
 ],
 "metadata": {
  "kernelspec": {
   "display_name": "Python 3 (ipykernel)",
   "language": "python",
   "name": "python3"
  },
  "language_info": {
   "codemirror_mode": {
    "name": "ipython",
    "version": 3
   },
   "file_extension": ".py",
   "mimetype": "text/x-python",
   "name": "python",
   "nbconvert_exporter": "python",
   "pygments_lexer": "ipython3",
   "version": "3.9.13"
  }
 },
 "nbformat": 4,
 "nbformat_minor": 5
}

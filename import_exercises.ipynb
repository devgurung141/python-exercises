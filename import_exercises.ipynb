{
 "cells": [
  {
   "cell_type": "code",
   "execution_count": 318,
   "id": "3930c3e3",
   "metadata": {},
   "outputs": [
    {
     "data": {
      "text/plain": [
       "'F'"
      ]
     },
     "execution_count": 318,
     "metadata": {},
     "output_type": "execute_result"
    }
   ],
   "source": [
    "# Create a jupyter notebook named import_exercises.ipynb. Use from to import the get_letter_grade function and give it an alias. Test this function in your notebook.\n",
    "\n",
    "from function_exercises import get_letter_grade as g\n",
    "\n",
    "g(59)\n",
    "\n"
   ]
  },
  {
   "cell_type": "code",
   "execution_count": 319,
   "id": "7a5b335a",
   "metadata": {},
   "outputs": [
    {
     "name": "stdout",
     "output_type": "stream",
     "text": [
      "9\n",
      "6\n",
      "12\n"
     ]
    }
   ],
   "source": [
    "import itertools as it\n",
    "\n",
    "# How many different ways can you combine the letters from \"abc\" with the numbers 1, 2, and 3?\n",
    "print(len(list(it.product('abc','123'))))\n",
    "\n",
    "# How many different combinations are there of 2 letters from \"abcd\"?\n",
    "print(len(list(it.combinations('abcd',2))))\n",
    "\n",
    "# How many different permutations are there of 2 letters from \"abcd\"?\n",
    "print(len(list(it.permutations('abcd',2))))\n"
   ]
  },
  {
   "cell_type": "markdown",
   "id": "020b38c2",
   "metadata": {},
   "source": [
    "3. Save this file as profiles.json inside of your exercises directory (right click -> save file as...).\n",
    "\n",
    "   Use the load function from the json module to open this file.\n",
    "\n",
    "\n",
    "    import json\n",
    "\n",
    "    json.load(open('profiles.json'))\n",
    "\n",
    "   Your code should produce a list of dictionaries. Using this data, write some code that calculates and outputs the following information:\n",
    "\n",
    " - Total number of users\n",
    " - Number of active users\n",
    " - Number of inactive users\n",
    " - Grand total of balances for all users\n",
    " - Average balance per user\n",
    " - User with the lowest balance\n",
    " - User with the highest balance\n",
    " - Most common favorite fruit\n",
    " - Least most common favorite fruit\n",
    " - Total number of unread messages for all users"
   ]
  },
  {
   "cell_type": "code",
   "execution_count": 329,
   "id": "29ed3408",
   "metadata": {},
   "outputs": [
    {
     "name": "stdout",
     "output_type": "stream",
     "text": [
      "Total number of users:  19\n",
      "Numer of active users:  9\n",
      "Numer of inactive users:  10\n",
      "Grand total of balances for all users: $ 52667.02\n",
      "Average balance per user: $2771.95\n",
      "User with the lowest balance:  Avery Flynn\n",
      "User with the highest balance:  Fay Hammond\n",
      "Most common favorite fruit:  strawberry\n",
      "Least most common favorite fruit:  apple\n",
      "total number of unread message for all users:  210\n"
     ]
    }
   ],
   "source": [
    "import json\n",
    "import numpy as np\n",
    "\n",
    "\n",
    "profiles_list = json.load(open('profiles.json')) # store data from jason file\n",
    "\n",
    "# print(profiles_list[0])\n",
    "# print(profiles_list[0].keys())\n",
    "\n",
    "# store data in list\n",
    "is_active_list = []\n",
    "balance_list = []\n",
    "fruit_list = []\n",
    "greeting_list = []\n",
    "\n",
    "\n",
    "for data in profiles_list:  # access items in list using for lopp\n",
    "    is_active_list.append(data['isActive'])  # store boolean values for 'isActive' in a list\n",
    "    \n",
    "    individual_balance = data['balance'][1:].replace(',','')  # slice to remove '$', use replace to remove ','\n",
    "#     print(individual_balance)\n",
    "\n",
    "    balance_list.append(float(individual_balance))  # cast balance amount to float and store balance amount in a list\n",
    "    \n",
    "    fruit_list.append(data['favoriteFruit']) # store fruit in a list\n",
    "    \n",
    "#     print(data['greeting'][(data['greeting'].find('have ') + 4):data['greeting'].find(' unread')])\n",
    "    \n",
    "    #find method to get index before and after digit; slice message; store in a list\n",
    "    greeting_list.append(int(data['greeting'][(data['greeting'].find('have ') + 4):data['greeting'].find(' unread')]))\n",
    "\n",
    "# min to get minimum balance; cast to string   \n",
    "min_balance = f'{min(balance_list):.2f}'\n",
    "#print(min_balance)\n",
    "\n",
    "max_balance = str(max(balance_list))\n",
    "#print(max_balance)\n",
    "\n",
    "# access items in a list using for loop\n",
    "for data in profiles_list:\n",
    "    #print(data['balance'][1:].replace(',',''))\n",
    "    \n",
    "    # compare min_balance with balance values from a dictionary\n",
    "    if min_balance == data['balance'][1:].replace(',',''):\n",
    "#         print('Min', min_balance)\n",
    "\n",
    "        #for True statement, assingn values of name key from a dictionary\n",
    "        user_with_min_balance = data['name']\n",
    "    # compare max_balance with balance values from a dictionary\n",
    "    if max_balance == data['balance'][1:].replace(',',''):\n",
    "#         print('Max', max_balance)\n",
    "        \n",
    "        #for True statement, assingn values of name key from a dictionary\n",
    "        user_with_max_balance = data['name']\n",
    "        \n",
    "\n",
    "print('Total number of users: ', len(profiles_list))   \n",
    "#print(is_active)\n",
    "print('Numer of active users: ',is_active.count(True)) # count method to count repititations of a boolean True\n",
    "print('Numer of inactive users: ',is_active.count(False))  # count method to count repititations of a boolean False\n",
    "#print(balance_list)\n",
    "print(f'Grand total of balances for all users: $ {np.sum(balance_list)}') # numpy sum to get total sum of balance\n",
    "print(f'Average balance per user: ${(np.sum(balance_list)/len(profiles_list)):.2f}') # average of balance\n",
    "# print(user_with_min_balance)\n",
    "print('User with the lowest balance: ', user_with_min_balance)\n",
    "print('User with the highest balance: ', user_with_max_balance)\n",
    "#print(f\"count of apple: {fruit_list.count('apple')}, count of banana: {fruit_list.count('banana')}, count of strawberry: {fruit_list.count('strawberry')}\")\n",
    "print('Most common favorite fruit: ', max(fruit_list, key = fruit_list.count)) # maximum repitiations of a fruit\n",
    "print('Least most common favorite fruit: ', min((fruit_list), key = fruit_list.count))  # minimum repitiations of a fruit\n",
    "# print(greeting_list)\n",
    "print('total number of unread message for all users: ', np.sum(greeting_list)) # numpy sum to get total sum\n",
    "\n"
   ]
  },
  {
   "cell_type": "code",
   "execution_count": null,
   "id": "1fb91bc4",
   "metadata": {},
   "outputs": [],
   "source": []
  }
 ],
 "metadata": {
  "kernelspec": {
   "display_name": "Python 3 (ipykernel)",
   "language": "python",
   "name": "python3"
  },
  "language_info": {
   "codemirror_mode": {
    "name": "ipython",
    "version": 3
   },
   "file_extension": ".py",
   "mimetype": "text/x-python",
   "name": "python",
   "nbconvert_exporter": "python",
   "pygments_lexer": "ipython3",
   "version": "3.9.13"
  }
 },
 "nbformat": 4,
 "nbformat_minor": 5
}

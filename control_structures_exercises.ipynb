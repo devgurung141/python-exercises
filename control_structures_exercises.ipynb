{
 "cells": [
  {
   "cell_type": "markdown",
   "id": "a6d27469",
   "metadata": {},
   "source": [
    "1. Conditional Basics\n",
    "\n",
    "a. prompt the user for a day of the week, print out whether the day is Monday or not"
   ]
  },
  {
   "cell_type": "code",
   "execution_count": 278,
   "id": "c10debe8",
   "metadata": {},
   "outputs": [
    {
     "name": "stdout",
     "output_type": "stream",
     "text": [
      "Enter a day of the week: MONDAY\n",
      "The day is Monday\n"
     ]
    }
   ],
   "source": [
    "day = input('Enter a day of the week: ')\n",
    "if day.lower() == \"monday\":\n",
    "    print('The day is Monday')\n",
    "else:\n",
    "    print('The day is not Monday')"
   ]
  },
  {
   "cell_type": "markdown",
   "id": "b7a209f9",
   "metadata": {},
   "source": [
    "b. prompt the user for a day of the week, print out whether the day is a weekday or a weekend"
   ]
  },
  {
   "cell_type": "code",
   "execution_count": 280,
   "id": "400cdd39",
   "metadata": {},
   "outputs": [
    {
     "name": "stdout",
     "output_type": "stream",
     "text": [
      "Enter a day of the week: monday\n",
      "The day is a weekday\n"
     ]
    }
   ],
   "source": [
    "day = input('Enter a day of the week: ')\n",
    "if day.lower() == 'saturday' or day.lower() == 'sunday':\n",
    "    print('The day is a weekend')\n",
    "else:\n",
    "    print('The day is a weekday')"
   ]
  },
  {
   "cell_type": "markdown",
   "id": "3037da9a",
   "metadata": {},
   "source": [
    "c. create variables and make up values for\n",
    "\n",
    "- the number of hours worked in one week\n",
    "- the hourly rate\n",
    "- how much the week's paycheck will be\n",
    "- write the python code that calculates the weekly paycheck. You get paid time and a half if you work more than 40 hours"
   ]
  },
  {
   "cell_type": "code",
   "execution_count": 281,
   "id": "b9b231f0",
   "metadata": {},
   "outputs": [
    {
     "name": "stdout",
     "output_type": "stream",
     "text": [
      "1300.0\n"
     ]
    }
   ],
   "source": [
    "hour_worked_per_week = 50\n",
    "rate_hourly = 20\n",
    "rate_hourly_overtime = rate_hourly + rate_hourly/2\n",
    "overtime_work_per_week = hour_worked_per_week - 40\n",
    "\n",
    "if hour_worked_per_week <= 40:\n",
    "    paycheck_weekly = rate_hourly * hour_worked_per_week\n",
    "    print(paycheck_weekly)\n",
    "else:\n",
    "    paycheck_weekly = (rate_hourly * hour_worked_per_week) + (overtime_work_per_week * rate_hourly_overtime)\n",
    "    print(paycheck_weekly)\n",
    "\n"
   ]
  },
  {
   "cell_type": "markdown",
   "id": "1dd8a047",
   "metadata": {},
   "source": [
    "2. Loop Basics\n",
    "\n",
    "a. While\n",
    "\n",
    "- Create an integer variable i with a value of 5.\n",
    "- Create a while loop that runs so long as i is less than or equal to 15\n",
    "- Each loop iteration, output the current value of i, then increment i by one.\n"
   ]
  },
  {
   "cell_type": "code",
   "execution_count": 282,
   "id": "deb488de",
   "metadata": {},
   "outputs": [
    {
     "name": "stdout",
     "output_type": "stream",
     "text": [
      "5\n",
      "6\n",
      "7\n",
      "8\n",
      "9\n",
      "10\n",
      "11\n",
      "12\n",
      "13\n",
      "14\n",
      "15\n"
     ]
    }
   ],
   "source": [
    "i = 5\n",
    "while i <= 15:\n",
    "    print(i)\n",
    "    i += 1"
   ]
  },
  {
   "cell_type": "markdown",
   "id": "64aa6301",
   "metadata": {},
   "source": [
    "- Create a while loop that will count by 2's starting with 0 and ending at 100. Follow each number with a new line."
   ]
  },
  {
   "cell_type": "code",
   "execution_count": 283,
   "id": "5bfd0e13",
   "metadata": {},
   "outputs": [
    {
     "name": "stdout",
     "output_type": "stream",
     "text": [
      "2\n",
      "4\n",
      "6\n",
      "8\n",
      "10\n",
      "12\n",
      "14\n",
      "16\n",
      "18\n",
      "20\n",
      "22\n",
      "24\n",
      "26\n",
      "28\n",
      "30\n",
      "32\n",
      "34\n",
      "36\n",
      "38\n",
      "40\n",
      "42\n",
      "44\n",
      "46\n",
      "48\n",
      "50\n",
      "52\n",
      "54\n",
      "56\n",
      "58\n",
      "60\n",
      "62\n",
      "64\n",
      "66\n",
      "68\n",
      "70\n",
      "72\n",
      "74\n",
      "76\n",
      "78\n",
      "80\n",
      "82\n",
      "84\n",
      "86\n",
      "88\n",
      "90\n",
      "92\n",
      "94\n",
      "96\n",
      "98\n",
      "100\n"
     ]
    }
   ],
   "source": [
    "i = 0\n",
    "count = 0\n",
    "while i < 101:\n",
    "    count += 2\n",
    "    print(count)\n",
    "    if count == 100:\n",
    "        i = 101\n",
    "        "
   ]
  },
  {
   "cell_type": "markdown",
   "id": "d8a22ab3",
   "metadata": {},
   "source": [
    "- Alter your loop to count backwards by 5's from 100 to -10."
   ]
  },
  {
   "cell_type": "code",
   "execution_count": 284,
   "id": "f9d87b32",
   "metadata": {},
   "outputs": [
    {
     "name": "stdout",
     "output_type": "stream",
     "text": [
      "95\n",
      "90\n",
      "85\n",
      "80\n",
      "75\n",
      "70\n",
      "65\n",
      "60\n",
      "55\n",
      "50\n",
      "45\n",
      "40\n",
      "35\n",
      "30\n",
      "25\n",
      "20\n",
      "15\n",
      "10\n",
      "5\n",
      "0\n",
      "-5\n",
      "-10\n"
     ]
    }
   ],
   "source": [
    "i = 0\n",
    "count = 100\n",
    "while i < 101:\n",
    "    count -= 5\n",
    "    print(count)\n",
    "    if count == -10:\n",
    "        i = 101\n",
    "        "
   ]
  },
  {
   "cell_type": "markdown",
   "id": "b00867be",
   "metadata": {},
   "source": [
    "- Create a while loop that starts at 2, and displays the number squared on each line while the number is less than 1,000,000"
   ]
  },
  {
   "cell_type": "code",
   "execution_count": 285,
   "id": "a74c4d15",
   "metadata": {},
   "outputs": [
    {
     "name": "stdout",
     "output_type": "stream",
     "text": [
      "2\n",
      "4\n",
      "16\n",
      "256\n",
      "65536\n"
     ]
    }
   ],
   "source": [
    "i = 2\n",
    "while i < 1_000_000:\n",
    "    print(i)\n",
    "    i = i ** 2\n",
    "    "
   ]
  },
  {
   "cell_type": "markdown",
   "id": "a0027b83",
   "metadata": {},
   "source": [
    "- Write a loop that uses print to create the output shown below.\n",
    "\n",
    "\n",
    "100\n",
    "95\n",
    "90\n",
    "85\n",
    "80\n",
    "75\n",
    "70\n",
    "65\n",
    "60\n",
    "55\n",
    "50\n",
    "45\n",
    "40\n",
    "35\n",
    "30\n",
    "25\n",
    "20\n",
    "15\n",
    "10\n",
    "5"
   ]
  },
  {
   "cell_type": "code",
   "execution_count": 286,
   "id": "107179ec",
   "metadata": {},
   "outputs": [
    {
     "name": "stdout",
     "output_type": "stream",
     "text": [
      "100\n",
      "95\n",
      "90\n",
      "85\n",
      "80\n",
      "75\n",
      "70\n",
      "65\n",
      "60\n",
      "55\n",
      "50\n",
      "45\n",
      "40\n",
      "35\n",
      "30\n",
      "25\n",
      "20\n",
      "15\n",
      "10\n",
      "5\n"
     ]
    }
   ],
   "source": [
    "i = 0\n",
    "count = 105\n",
    "while i < 101:\n",
    "    count -= 5\n",
    "    print(count)\n",
    "    if count == 5:\n",
    "        i = 101"
   ]
  },
  {
   "cell_type": "markdown",
   "id": "e45b77dc",
   "metadata": {},
   "source": [
    "b. For Loops\n",
    "\n",
    "i. Write some code that prompts the user for a number, then shows a multiplication table up through 10 for that number."
   ]
  },
  {
   "cell_type": "code",
   "execution_count": 287,
   "id": "fd1520ba",
   "metadata": {},
   "outputs": [
    {
     "name": "stdout",
     "output_type": "stream",
     "text": [
      "Enter a number: 7\n",
      "\n",
      "7 X 1 7\n",
      "7 X 2 14\n",
      "7 X 3 21\n",
      "7 X 4 28\n",
      "7 X 5 35\n",
      "7 X 6 42\n",
      "7 X 7 49\n",
      "7 X 8 56\n",
      "7 X 9 63\n",
      "7 X 10 70\n"
     ]
    }
   ],
   "source": [
    "number = int(input('Enter a number: '))\n",
    "print()\n",
    "\n",
    "for i in range(1,11):\n",
    "    \n",
    "    print(f'{number} X {i} {number*i}')"
   ]
  },
  {
   "cell_type": "markdown",
   "id": "ad3cf966",
   "metadata": {},
   "source": [
    "ii. Create a for loop that uses print to create the output shown below.\n",
    "\n",
    "\n",
    "1\n",
    "22\n",
    "333\n",
    "4444\n",
    "55555\n",
    "666666\n",
    "7777777\n",
    "88888888\n",
    "999999999"
   ]
  },
  {
   "cell_type": "code",
   "execution_count": 288,
   "id": "29e17485",
   "metadata": {},
   "outputs": [
    {
     "name": "stdout",
     "output_type": "stream",
     "text": [
      "1\n",
      "22\n",
      "333\n",
      "4444\n",
      "55555\n",
      "666666\n",
      "7777777\n",
      "88888888\n",
      "999999999\n"
     ]
    }
   ],
   "source": [
    "for i in range (1,10):\n",
    "    print(str(i)* i)"
   ]
  },
  {
   "cell_type": "markdown",
   "id": "f3ff5630",
   "metadata": {},
   "source": [
    "c. break and continue\n",
    "\n",
    "i. Write a program that prompts the user for a positive integer. Next write a loop that prints out the numbers from the number the user entered down to 1.\n",
    "\n"
   ]
  },
  {
   "cell_type": "code",
   "execution_count": 289,
   "id": "9ea105c1",
   "metadata": {},
   "outputs": [
    {
     "name": "stdout",
     "output_type": "stream",
     "text": [
      "Enter a positive integer: 5\n",
      "5\n",
      "4\n",
      "3\n",
      "2\n",
      "1\n"
     ]
    }
   ],
   "source": [
    "number = int(input('Enter a positive integer: '))\n",
    "while number > 0:\n",
    "    print(number)\n",
    "    number -= 1"
   ]
  },
  {
   "cell_type": "markdown",
   "id": "251c84f8",
   "metadata": {},
   "source": [
    "ii. The input function can be used to prompt for input and use that input in your python code. Prompt the user to enter a positive number and write a loop that counts from 0 to that number. (Hints: first make sure that the value the user entered is a valid number, also note that the input function returns a string, so you'll need to convert this to a numeric type.)\n",
    "\n"
   ]
  },
  {
   "cell_type": "code",
   "execution_count": 290,
   "id": "35b343a5",
   "metadata": {},
   "outputs": [
    {
     "name": "stdout",
     "output_type": "stream",
     "text": [
      "Enter a positive integer: 5\n",
      "0\n",
      "1\n",
      "3\n",
      "6\n",
      "10\n",
      "15\n"
     ]
    }
   ],
   "source": [
    "number = int(input('Enter a positive integer: '))\n",
    "count = 0\n",
    "for i in range(number +1):\n",
    "    count += i\n",
    "    print(count)\n",
    "    \n",
    "    "
   ]
  },
  {
   "cell_type": "markdown",
   "id": "d1bf8c4b",
   "metadata": {},
   "source": [
    "iii. Prompt the user for an odd number between 1 and 50. Use a loop and a break statement to continue prompting the user if they enter invalid input. (Hint: use the isdigit method on strings to determine this). Use a loop and the continue statement to output all the odd numbers between 1 and 50, except for the number the user entered."
   ]
  },
  {
   "cell_type": "code",
   "execution_count": 291,
   "id": "4f535aa3",
   "metadata": {},
   "outputs": [
    {
     "name": "stdout",
     "output_type": "stream",
     "text": [
      "Enter an odd number between 1 and 50: 49\n",
      "\n",
      "Number to skip is: 49\n",
      "\n",
      "Here is an odd number: 1\n",
      "Here is an odd number: 3\n",
      "Here is an odd number: 5\n",
      "Here is an odd number: 7\n",
      "Here is an odd number: 9\n",
      "Here is an odd number: 11\n",
      "Here is an odd number: 13\n",
      "Here is an odd number: 15\n",
      "Here is an odd number: 17\n",
      "Here is an odd number: 19\n",
      "Here is an odd number: 21\n",
      "Here is an odd number: 23\n",
      "Here is an odd number: 25\n",
      "Here is an odd number: 27\n",
      "Here is an odd number: 29\n",
      "Here is an odd number: 31\n",
      "Here is an odd number: 33\n",
      "Here is an odd number: 35\n",
      "Here is an odd number: 37\n",
      "Here is an odd number: 39\n",
      "Here is an odd number: 41\n",
      "Here is an odd number: 43\n",
      "Here is an odd number: 45\n",
      "Here is an odd number: 47\n",
      "Yikes!, Skipping number: 49\n"
     ]
    }
   ],
   "source": [
    "number = int(input('Enter an odd number between 1 and 50: '))\n",
    "\n",
    "while number % 2 == 0 or  number < 1 or number > 50:\n",
    "    number = int(input('Enter an odd number between 1 and 50: '))\n",
    "    if number %2 == 1 and number > 1 and number < 50:\n",
    "        #print(number)\n",
    "        break\n",
    "\n",
    "print(f'\\nNumber to skip is: {number}')\n",
    "print()\n",
    "for i in range(50):\n",
    "    if i % 2 == 1:\n",
    "        if i == number:\n",
    "            print(f'Yikes!, Skipping number: {i}')\n",
    "            continue\n",
    "        print(f'Here is an odd number: {i}')\n",
    "        \n",
    "        \n",
    "\n",
    "\n",
    "\n",
    "\n"
   ]
  },
  {
   "cell_type": "markdown",
   "id": "ba127840",
   "metadata": {},
   "source": [
    "3. Fizzbuzz\n",
    "\n",
    "One of the most common interview questions for entry-level programmers is the FizzBuzz test. Developed by Imran Ghory, the test is designed to test basic looping and conditional logic skills.\n",
    "\n",
    "- Write a program that prints the numbers from 1 to 100.\n",
    "- For multiples of three print \"Fizz\" instead of the number\n",
    "- For the multiples of five print \"Buzz\".\n",
    "- For numbers which are multiples of both three and five print \"FizzBuzz\"."
   ]
  },
  {
   "cell_type": "code",
   "execution_count": 292,
   "id": "b75a4267",
   "metadata": {},
   "outputs": [
    {
     "name": "stdout",
     "output_type": "stream",
     "text": [
      "3 Fizz\n",
      "5 Buzz\n",
      "6 Fizz\n",
      "9 Fizz\n",
      "10 Buzz\n",
      "12 Fizz\n",
      "15 Fizzbuzz\n",
      "18 Fizz\n",
      "20 Buzz\n",
      "21 Fizz\n",
      "24 Fizz\n",
      "25 Buzz\n",
      "27 Fizz\n",
      "30 Fizzbuzz\n",
      "33 Fizz\n",
      "35 Buzz\n",
      "36 Fizz\n",
      "39 Fizz\n",
      "40 Buzz\n",
      "42 Fizz\n",
      "45 Fizzbuzz\n",
      "48 Fizz\n",
      "50 Buzz\n",
      "51 Fizz\n",
      "54 Fizz\n",
      "55 Buzz\n",
      "57 Fizz\n",
      "60 Fizzbuzz\n",
      "63 Fizz\n",
      "65 Buzz\n",
      "66 Fizz\n",
      "69 Fizz\n",
      "70 Buzz\n",
      "72 Fizz\n",
      "75 Fizzbuzz\n",
      "78 Fizz\n",
      "80 Buzz\n",
      "81 Fizz\n",
      "84 Fizz\n",
      "85 Buzz\n",
      "87 Fizz\n",
      "90 Fizzbuzz\n",
      "93 Fizz\n",
      "95 Buzz\n",
      "96 Fizz\n",
      "99 Fizz\n",
      "100 Buzz\n"
     ]
    }
   ],
   "source": [
    "for i in range (1,101):\n",
    "    if i % 3 == 0 and i % 5 == 0:\n",
    "        print(i, 'Fizzbuzz')\n",
    "    elif i % 3 == 0:\n",
    "        print(i, 'Fizz')\n",
    "    elif i % 5 == 0:\n",
    "        print(i, 'Buzz')\n",
    "    else:\n",
    "        pass\n",
    "    "
   ]
  },
  {
   "cell_type": "markdown",
   "id": "88594f1c",
   "metadata": {},
   "source": [
    "4. Display a table of powers.\n",
    "\n",
    "- Prompt the user to enter an integer.\n",
    "- Display a table of squares and cubes from 1 to the value entered.\n",
    "- Ask if the user wants to continue.\n",
    "- Assume that the user will enter valid data.\n",
    "- Only continue if the user agrees to."
   ]
  },
  {
   "cell_type": "code",
   "execution_count": 293,
   "id": "c8a87120",
   "metadata": {},
   "outputs": [
    {
     "name": "stdout",
     "output_type": "stream",
     "text": [
      "What number would you like to go up to? 5\n",
      "\n",
      "Here is your table\n",
      "\n",
      " number          |  squared      |  cubed\n",
      " _ _ _ _ _ _ _ _ | _ _ _ _ _ _ _ | _ _ _ _ _\n",
      "    1            |    1          |    1\n",
      "    2            |    4          |    8\n",
      "    3            |    9          |   27\n",
      "    4            |   16          |   64\n",
      "    5            |   25          |  125\n"
     ]
    }
   ],
   "source": [
    "number = int(input('What number would you like to go up to? '))\n",
    "print(f'\\nHere is your table')\n",
    "print(f'\\n number          |  squared      |  cubed')\n",
    "print(f' _ _ _ _ _ _ _ _ | _ _ _ _ _ _ _ | _ _ _ _ _')\n",
    "for i in range(1, (number + 1)):\n",
    "    print(f'{i:5}            |{i **2:5}          |{i **3:5}')"
   ]
  },
  {
   "cell_type": "markdown",
   "id": "794ccb34",
   "metadata": {},
   "source": [
    "5. Convert given number grades into letter grades.\n",
    "\n",
    "    - Prompt the user for a numerical grade from 0 to 100.\n",
    "    - Display the corresponding letter grade.\n",
    "    - Prompt the user to continue.\n",
    "    - Assume that the user will enter valid integers for the grades.\n",
    "    - The application should only continue if the user agrees to.\n",
    "    - Grade Ranges:\n",
    "\n",
    "        - A : 100 - 88\n",
    "        - B : 87 - 80\n",
    "        - C : 79 - 67\n",
    "        - D : 66 - 60\n",
    "        - F : 59 - 0\n",
    "- Bonus\n",
    "\n",
    "    - Edit your grade ranges to include pluses and minuses (ex: 99-100 = A+).\n",
    "\n"
   ]
  },
  {
   "cell_type": "code",
   "execution_count": 294,
   "id": "e0b2ef0f",
   "metadata": {},
   "outputs": [
    {
     "name": "stdout",
     "output_type": "stream",
     "text": [
      "Enter a numerical grade from 0 to 100: 88\n",
      "B+\n",
      "To continue, enter Y:\n",
      "To exit, Enter N    :y\n",
      "\n",
      "Enter a numerical grade from 0 to 100: 59\n",
      "F\n",
      "To continue, enter Y:\n",
      "To exit, Enter N    :n\n"
     ]
    }
   ],
   "source": [
    "number = int(input('Enter a numerical grade from 0 to 100: '))\n",
    "flag = True\n",
    "while True:\n",
    "    if number >= 97:\n",
    "        print('A+')\n",
    "    elif number >= 93:\n",
    "        print('A')\n",
    "    elif number >= 90: \n",
    "        print('A-')\n",
    "    elif number >= 87:\n",
    "        print('B+')\n",
    "    elif number >= 83:\n",
    "        print('B')\n",
    "    elif number >= 80 :\n",
    "        print('B-')\n",
    "    elif number >= 77:\n",
    "        print('C+')\n",
    "    elif number >= 73:\n",
    "        print('C')\n",
    "    elif number >= 70 :\n",
    "        print('C-')\n",
    "    elif number >= 67:\n",
    "        print('D+')\n",
    "    elif number >= 63:\n",
    "        print('D')\n",
    "    elif number >= 60 :\n",
    "        print('D-')\n",
    "    else:\n",
    "        print('F')\n",
    "        \n",
    "    user_prompt = input(\"\"\"To continue, enter Y:\n",
    "To exit, Enter N    :\"\"\")\n",
    "    if user_prompt.upper() == 'Y':\n",
    "        number = int(input('\\nEnter a numerical grade from 0 to 100: '))\n",
    "    elif user_prompt.upper() == 'N':\n",
    "            break\n",
    "    else:\n",
    "        print('Wrong input, exiting....')\n",
    "        print('Exit complete')\n",
    "        break\n",
    "            \n",
    "\n",
    "    \n",
    "\n",
    "        "
   ]
  },
  {
   "cell_type": "markdown",
   "id": "8086ea9f",
   "metadata": {},
   "source": [
    "6. Create a list of dictionaries where each dictionary represents a book that you have read. Each dictionary in the list should have the keys title, author, and genre. Loop through the list and print out information about each book.\n",
    "\n",
    "a. Prompt the user to enter a genre, then loop through your books list and print out the titles of all the books in that genre."
   ]
  },
  {
   "cell_type": "code",
   "execution_count": 295,
   "id": "07fe4a82",
   "metadata": {},
   "outputs": [
    {
     "name": "stdout",
     "output_type": "stream",
     "text": [
      "book1\n",
      "{'title': 'I am Malala', 'author': 'alala Yousafzai,Chrisina Lamb', 'genre': 'autobiography'}\n",
      "book2\n",
      "{'title': 'Ulysses', 'author': 'James Joyce', 'genre': 'fiction'}\n",
      "book3\n",
      "{'title': 'Killing England', 'author': 'Bill O’Reilly and Martin Dugard', 'genre': 'history'}\n",
      "book4\n",
      "{'title': 'Hiroshima', 'author': 'John Hresey', 'genre': 'history'}\n",
      "book5\n",
      "{'title': 'Dune', 'author': 'Frank Herbert', 'genre': 'fiction'}\n",
      "\n",
      "From genre list: autobiography, fiction, history\n",
      "Enter one:\n",
      "history\n",
      "\n",
      "Killing England\n",
      "Hiroshima\n"
     ]
    }
   ],
   "source": [
    "book_dict = {'book1':{'title':'I am Malala', 'author':'alala Yousafzai,Chrisina Lamb', 'genre':'autobiography'},\n",
    "        'book2':{'title': 'Ulysses', 'author': 'James Joyce', 'genre': 'fiction'},\n",
    "        'book3':{'title': 'Killing England','author': 'Bill O’Reilly and Martin Dugard', 'genre':'history'},\n",
    "        'book4':{'title':'Hiroshima', 'author': 'John Hresey', 'genre': 'history'},\n",
    "        'book5': {'title': 'Dune', 'author':'Frank Herbert', 'genre':'fiction'}\n",
    "        }\n",
    "\n",
    "for books in book_dict:\n",
    "    print(books)\n",
    "    print(book_dict[books])\n",
    "    \n",
    "    \n",
    "user_prompt = input('''\\nFrom genre list: autobiography, fiction, history\n",
    "Enter one:\\n''')\n",
    "print()\n",
    "for i in book_dict:\n",
    "    if book_dict[i]['genre'] == user_prompt:\n",
    "        print(book_dict[i]['title'])\n",
    "\n",
    "\n",
    "        \n",
    "    "
   ]
  },
  {
   "cell_type": "code",
   "execution_count": null,
   "id": "3a02a484",
   "metadata": {},
   "outputs": [],
   "source": []
  }
 ],
 "metadata": {
  "kernelspec": {
   "display_name": "Python 3 (ipykernel)",
   "language": "python",
   "name": "python3"
  },
  "language_info": {
   "codemirror_mode": {
    "name": "ipython",
    "version": 3
   },
   "file_extension": ".py",
   "mimetype": "text/x-python",
   "name": "python",
   "nbconvert_exporter": "python",
   "pygments_lexer": "ipython3",
   "version": "3.9.13"
  }
 },
 "nbformat": 4,
 "nbformat_minor": 5
}
